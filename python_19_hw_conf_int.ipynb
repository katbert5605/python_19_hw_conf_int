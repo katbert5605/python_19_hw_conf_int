{
 "cells": [
  {
   "cell_type": "markdown",
   "id": "769a5484",
   "metadata": {},
   "source": [
    "<div class=\"alert alert-info\">\n",
    "<b>Задание № 0</b>\n",
    "\n",
    "Найдите минимально необходимый объем выборки для построения интервальной оценки среднего.\n",
    "\n",
    "- желаемая точность $\\Delta$ = 3;\n",
    "- дисперсия $\\sigma^2$  = 225;\n",
    "- уровень доверия $\\beta$ = 0.95.\n",
    "    \n",
    "Ответ округлите до целого\n",
    "</div>"
   ]
  },
  {
   "cell_type": "code",
   "execution_count": 3,
   "id": "888a1a1c",
   "metadata": {},
   "outputs": [],
   "source": [
    "import numpy as np  \n",
    "import pandas as pd  # для работы с таблицами\n",
    "from scipy import stats # При работе со статистикой\n",
    "import matplotlib.pyplot as plt  # Библиотека для визуализации результатов \n",
    "\n",
    "import seaborn as sns # Более продвинутая библиотека для визуализации"
   ]
  },
  {
   "cell_type": "code",
   "execution_count": null,
   "id": "b00fee67",
   "metadata": {},
   "outputs": [],
   "source": []
  },
  {
   "cell_type": "code",
   "execution_count": 7,
   "id": "6b4adc38",
   "metadata": {},
   "outputs": [
    {
     "data": {
      "text/plain": [
       "96"
      ]
     },
     "execution_count": 7,
     "metadata": {},
     "output_type": "execute_result"
    }
   ],
   "source": [
    "sigma = 15  # Стандартное отклонение - корень из дисперсии \n",
    "Z = 1.96  #  %   # Квантиль нормального распределения (нашли в таблице для a = 0.05)\n",
    "Delta = 3 #%         #Погрешность\n",
    "n = int(((sigma*Z)/Delta)**2) #через int для округления ответа\n",
    "n"
   ]
  },
  {
   "cell_type": "markdown",
   "id": "7374ff4a",
   "metadata": {},
   "source": [
    "При заданных условиях нам необходима выборка из 96 точек (измерений)"
   ]
  },
  {
   "cell_type": "markdown",
   "id": "5b2453a6",
   "metadata": {},
   "source": [
    "<div class=\"alert alert-info\">\n",
    "<b>Задание № 1</b>\n",
    "\n",
    "Постройте `98% доверительный интервал` для среднего значения, если известно, что\n",
    "\n",
    "- объем выборки n = 25;\n",
    "- среднее значение по выборке $\\overline x$ = 130;\n",
    "- Из достоверных источников известно стандартное отклонение $\\sigma = 15$.\n",
    "    \n",
    "В ответ укажите длину полученного доверительного интервала (разницу между правым и левым концом), окруленную до целого\n",
    "</div>"
   ]
  },
  {
   "cell_type": "code",
   "execution_count": 15,
   "id": "e21bd25d",
   "metadata": {},
   "outputs": [
    {
     "data": {
      "text/plain": [
       "13"
      ]
     },
     "execution_count": 15,
     "metadata": {},
     "output_type": "execute_result"
    }
   ],
   "source": [
    "# Задаем объем выборки\n",
    "n_1 = 25 \n",
    "# Задаем функцию дов. интервала conf_int\n",
    "# Указываем параметры функции, где loc = среднее значение (mean), scale = std (стандартное отклонение)\n",
    "conf_int = stats.norm.interval(0.98, loc=130, scale=15 / np.sqrt(n_1))\n",
    "int(conf_int[1]-conf_int[0])"
   ]
  },
  {
   "cell_type": "markdown",
   "id": "32b404c4",
   "metadata": {},
   "source": [
    "<div class=\"alert alert-info\">\n",
    "<b>Задание № 2</b>\n",
    "\n",
    "Даны две выборки роста мужчин и женщин. \n",
    "- Докажите, используя `t-Тест Стьдента`, что различие между выборками незначительно, если уровень значимости равен $\\alpha$ `= 0.001`.\n",
    "- Покажите различия визуально\n",
    "</div>"
   ]
  },
  {
   "cell_type": "code",
   "execution_count": 24,
   "id": "441524a7",
   "metadata": {},
   "outputs": [
    {
     "data": {
      "text/plain": [
       "(3.6635841716708892, 0.00024875321033580573)"
      ]
     },
     "execution_count": 24,
     "metadata": {},
     "output_type": "execute_result"
    }
   ],
   "source": [
    "import scipy.stats as stats\n",
    "np.random.seed(42) #фиксация случайности\n",
    "\n",
    "mens  = stats.norm.rvs(loc=171, scale=100, size=150000)  # Выборка мужчин со средним ростом 171\n",
    "womens = stats.norm.rvs(loc=170, scale=100, size=150000)  # Выборка женщин со средним ростом 170\n",
    "\n",
    "tvalue, pvalue = stats.ttest_ind(mens, womens)\n",
    "tvalue, pvalue"
   ]
  },
  {
   "cell_type": "code",
   "execution_count": 21,
   "id": "4c4f7ef1",
   "metadata": {},
   "outputs": [
    {
     "data": {
      "image/png": "[encoded data removed]",
      "text/plain": [
       "<Figure size 432x288 with 1 Axes>"
      ]
     },
     "metadata": {
      "needs_background": "light"
     },
     "output_type": "display_data"
    }
   ],
   "source": [
    "plt.hist(mens, bins=15, alpha=0.5);\n",
    "plt.hist(womens, bins=15, alpha=0.5);"
   ]
  },
  {
   "cell_type": "markdown",
   "id": "c2240305",
   "metadata": {},
   "source": [
    "Мы получили p < a\n",
    "\n",
    "**различия между выборками значительное!**\n",
    "\n",
    "Доказать утверждение из задачи с помощью t-теста мы не можем. "
   ]
  },
  {
   "cell_type": "markdown",
   "id": "b5504bb5",
   "metadata": {},
   "source": [
    "<div class=\"alert alert-info\">\n",
    "<b>Задание № 3</b>\n",
    "\n",
    "Определите объем необходимой выборки для исследования среднего чека за кофе в случайном городе если известно, что в этом городе:\n",
    "\n",
    "- стандартное отклонение $\\sigma = 150$;\n",
    "- уровень доверия $\\beta$  = 95%;\n",
    "- Погрешность $\\Delta = 50$ рублей.\n",
    "</div>"
   ]
  },
  {
   "cell_type": "code",
   "execution_count": 27,
   "id": "55ced23a",
   "metadata": {},
   "outputs": [
    {
     "data": {
      "text/plain": [
       "77"
      ]
     },
     "execution_count": 27,
     "metadata": {},
     "output_type": "execute_result"
    }
   ],
   "source": [
    "sigma = 150  # Стандартное отклонение - корень из дисперсии \n",
    "Z = 1.96  #  %   # Квантиль нормального распределения (нашли в таблице для a = 0.05)\n",
    "Delta = 50 / 150 * 100 #%         #Погрешность\n",
    "n = int(((sigma*Z)/Delta)**2) #через int для округления ответа\n",
    "n"
   ]
  },
  {
   "cell_type": "markdown",
   "id": "c31aabbe",
   "metadata": {},
   "source": [
    "<div class=\"alert alert-info\">\n",
    "<b>Задание № 4</b>\n",
    "\n",
    "Представьте, что вы хотите разоблачить \"волшебника\" который считает, что умеет предсказывать погоду на завтра, отвечая просто: дождь или солнце. Вы пронаблюдали за ответами \"волшебника\" в течении какого-то периода времени и получили некие результаты (см.ниже).\n",
    "\n",
    "Можно ли сказать, что маг действительно умеет предсказывать погоду? Уровень значимости принять за `0.05` ($\\alpha=0.05$).\n",
    "</div>"
   ]
  },
  {
   "cell_type": "code",
   "execution_count": 28,
   "id": "78e0c10f",
   "metadata": {},
   "outputs": [
    {
     "data": {
      "text/html": [
       "<div>\n",
       "<style scoped>\n",
       "    .dataframe tbody tr th:only-of-type {\n",
       "        vertical-align: middle;\n",
       "    }\n",
       "\n",
       "    .dataframe tbody tr th {\n",
       "        vertical-align: top;\n",
       "    }\n",
       "\n",
       "    .dataframe thead th {\n",
       "        text-align: right;\n",
       "    }\n",
       "</style>\n",
       "<table border=\"1\" class=\"dataframe\">\n",
       "  <thead>\n",
       "    <tr style=\"text-align: right;\">\n",
       "      <th></th>\n",
       "      <th>Верные ответы волшебника</th>\n",
       "      <th>Неверные ответы</th>\n",
       "    </tr>\n",
       "  </thead>\n",
       "  <tbody>\n",
       "    <tr>\n",
       "      <th>Дождь</th>\n",
       "      <td>10</td>\n",
       "      <td>15</td>\n",
       "    </tr>\n",
       "    <tr>\n",
       "      <th>Солнце</th>\n",
       "      <td>39</td>\n",
       "      <td>34</td>\n",
       "    </tr>\n",
       "  </tbody>\n",
       "</table>\n",
       "</div>"
      ],
      "text/plain": [
       "        Верные ответы волшебника  Неверные ответы\n",
       "Дождь                         10               15\n",
       "Солнце                        39               34"
      ]
     },
     "execution_count": 28,
     "metadata": {},
     "output_type": "execute_result"
    }
   ],
   "source": [
    "observations = pd.DataFrame([[10, 15],[39, 34]],\n",
    "                            index=['Дождь','Солнце'],\n",
    "                            columns=['Верные ответы волшебника','Неверные ответы'])\n",
    "observations"
   ]
  },
  {
   "cell_type": "code",
   "execution_count": 30,
   "id": "448cd602",
   "metadata": {},
   "outputs": [
    {
     "data": {
      "text/plain": [
       "(0.5811965811965812, 0.35417955365927367)"
      ]
     },
     "execution_count": 30,
     "metadata": {},
     "output_type": "execute_result"
    }
   ],
   "source": [
    "import scipy.stats as stats\n",
    "# Учтите, что у стат. тестов, в том числе и точного теста Фишера под нулевой гипотезой подразумевается случайность/отсутсвие эффекта\n",
    "\n",
    "oddsratio, pvalue = stats.fisher_exact(observations)#Возможно пригодится эта функция.\n",
    "oddsratio, pvalue"
   ]
  },
  {
   "cell_type": "markdown",
   "id": "fa3b7c15",
   "metadata": {},
   "source": [
    "p-value = 0.35, что значительно выше уровня значимости (0.05)\n",
    "\n",
    "Статистически, мы не можем отбросить гипотезу о том, что маг не может предсказывать погоду (учитывая уровень значимости)\n",
    "\n",
    "**Соответственно, не можем однозначно утверждать, что маг может предсказывать погоду**\n",
    "Для подобных утверждений недостаточно данных"
   ]
  },
  {
   "cell_type": "markdown",
   "id": "1fb175c1",
   "metadata": {},
   "source": [
    "<div class=\"alert alert-info\">\n",
    "<b>Задание № 5</b> \n",
    "\n",
    "Используя функцию mean_confidence_interval(data, confidence), постройте доверительный интервал с уровнем доверия $\\beta = 90\\%$ для выборки:\n",
    "\n",
    "</div>"
   ]
  },
  {
   "cell_type": "code",
   "execution_count": 31,
   "id": "75584556",
   "metadata": {},
   "outputs": [],
   "source": [
    "data = [4,5,8,9,6,7,5,6,7,8,5,6,7,0,9,8,4,6,\n",
    "        7,9,8,6,5,7,8,9,6,7,5,8,6,7,9,5,10]"
   ]
  },
  {
   "cell_type": "code",
   "execution_count": 32,
   "id": "1c259474",
   "metadata": {},
   "outputs": [],
   "source": [
    "def mean_confidence_interval(data, confidence=0.95): #Сложный пример реализации. Проще смотри в лекци. \n",
    "    n = len(data)\n",
    "    m, se = np.mean(data), stats.sem(data)\n",
    "    h = se * stats.t.ppf((1 + confidence)/2, n)  #  функция ppf из scipy возвращает нам перцентиль\n",
    "    return m-h, m, m+h "
   ]
  },
  {
   "cell_type": "code",
   "execution_count": 34,
   "id": "829c9ace",
   "metadata": {},
   "outputs": [
    {
     "name": "stdout",
     "output_type": "stream",
     "text": [
      "Доверительный интервал находятся в пределах от 6.074074746111319 до 7.183068111031539\n"
     ]
    }
   ],
   "source": [
    "answ = mean_confidence_interval(data, confidence=0.9)\n",
    "print (f'Доверительный интервал находятся в пределах от {answ[0]} до {answ[2]}')"
   ]
  },
  {
   "cell_type": "markdown",
   "id": "eeba82ef",
   "metadata": {},
   "source": [
    "<div class=\"alert alert-info\">\n",
    "<b>Задание № 6</b>\n",
    "\n",
    "Принадлежат ли выборки `A` и `B` одному множеству? \n",
    "    \n",
    "- Оцените это с помощью известных вам тестов для проверок статистических гипотез;\n",
    "- Покажите различия визуально.\n",
    "</div>"
   ]
  },
  {
   "cell_type": "code",
   "execution_count": 36,
   "id": "b035b004",
   "metadata": {},
   "outputs": [],
   "source": [
    "A = [4,5,8,9,6,7,5,6,7,6,8,5,6,7,8,4,\n",
    "    6,7,9,8,6,5,7,8,6,7,5,6,8,6,7,5,\n",
    "    4,5,8,9,6,7,5,6,7,6,8,5,6,7,8,4,\n",
    "    6,7,9,8,6,5,7,8,6,7,5,6,8,6,7,5,\n",
    "    4,5,8,9,6,7,5,6,7,6,8,5,6,7,8,4,\n",
    "    6,7,9,8,6,5,7,8,6,7,5,6,8,6,7,5,\n",
    "    4,5,8,9,6,7,5,6,7,6,8,5,6,7,8,4]\n",
    "\n",
    "B = [5,6,7,8,4,6,7,2,6,5,7,5,3,5,3,\n",
    "    5,3,5,5,8,7,6,4,5,3,5,4,6,4,5,3,\n",
    "    2,6,4,3,5,4,3,4,5,4,3,4,5,4,3,4,\n",
    "    2,6,4,3,5,4,3,4,5,4,3,4,5,4,3,4,\n",
    "    3,4,4,1,2,4,3,2,4,3,2,1,5,3,4,6,\n",
    "    3,2,4,5,6,4,3,3,5,3,4,4,4,2,5,3]"
   ]
  },
  {
   "cell_type": "code",
   "execution_count": 39,
   "id": "b7519664",
   "metadata": {},
   "outputs": [
    {
     "data": {
      "text/plain": [
       "(11.865233896372924, 0.0)"
      ]
     },
     "execution_count": 39,
     "metadata": {},
     "output_type": "execute_result"
    }
   ],
   "source": [
    "tvalue, pvalue = stats.ttest_ind(A, B)\n",
    "tvalue, round(pvalue,5)"
   ]
  },
  {
   "cell_type": "code",
   "execution_count": 46,
   "id": "7f8e4520",
   "metadata": {},
   "outputs": [
    {
     "name": "stdout",
     "output_type": "stream",
     "text": [
      "6.446428571428571\n",
      "4.147368421052631\n"
     ]
    }
   ],
   "source": [
    "# Посмотрим на среднеарифметические значения данных выборок\n",
    "print(np.mean(A))\n",
    "print(np.mean(B))"
   ]
  },
  {
   "cell_type": "code",
   "execution_count": 40,
   "id": "3687e6fc",
   "metadata": {},
   "outputs": [
    {
     "data": {
      "image/png": "[encoded data removed]",
      "text/plain": [
       "<Figure size 432x288 with 1 Axes>"
      ]
     },
     "metadata": {
      "needs_background": "light"
     },
     "output_type": "display_data"
    }
   ],
   "source": [
    "# Визуализируем распределние в обоих выборках\n",
    "plt.hist(A, bins=15, alpha=0.5);\n",
    "plt.hist(B, bins=15, alpha=0.5);"
   ]
  },
  {
   "cell_type": "markdown",
   "id": "d4a3862e",
   "metadata": {},
   "source": [
    "На основании занчения средних, p-value мы можем сказать, что две этих выборки различны\n",
    "\n",
    "**Важно!!! Если мы рассматриваем их, как выборки, которые характеризуют генеральную совокупность**\n",
    "\n",
    "Это могут быть неслучайные выборки из нормально распределнного множества. \n",
    "Соединим множества и визуализируем результат. "
   ]
  },
  {
   "cell_type": "code",
   "execution_count": 55,
   "id": "df5e59e1",
   "metadata": {},
   "outputs": [
    {
     "data": {
      "text/plain": [
       "(array([ 2.,  8., 22., 36., 41., 40., 28., 23.,  7.]),\n",
       " array([1.        , 1.88888889, 2.77777778, 3.66666667, 4.55555556,\n",
       "        5.44444444, 6.33333333, 7.22222222, 8.11111111, 9.        ]),\n",
       " <BarContainer object of 9 artists>)"
      ]
     },
     "execution_count": 55,
     "metadata": {},
     "output_type": "execute_result"
    },
    {
     "data": {
      "image/png": "[encoded data removed]",
      "text/plain": [
       "<Figure size 432x288 with 1 Axes>"
      ]
     },
     "metadata": {
      "needs_background": "light"
     },
     "output_type": "display_data"
    }
   ],
   "source": [
    "С = A + B\n",
    "plt.hist(С, bins=9)"
   ]
  },
  {
   "cell_type": "markdown",
   "id": "787c5f1a",
   "metadata": {},
   "source": [
    "<div class=\"alert alert-info\">\n",
    "<b>Задание № 7 (задание без подвоха)</b>\n",
    "\n",
    "На примере датасета про жилье в New York City, мы сталкивались с примером, когда переменная имеет не совсем нормальное распределение. \n",
    "\n",
    "- Предположим, Вы сформировали две гипотезы:\n",
    "    - нулевая гипотеза - распределение нормальное;\n",
    "    - альтернативная гипотеза - распределение ненормальное.\n",
    "- допустим, вы применили какой-то тест (сейчас неважно какой), который показал уровень значимости  `p-value = 0.03`. Каковы будут ваши выводы? Будем считать что у нас нормальное распределение или все-таки нет?)\n",
    "    \n",
    "</div>"
   ]
  },
  {
   "cell_type": "markdown",
   "id": "5c3bde7d",
   "metadata": {},
   "source": [
    "При условии, что мы приняли уровень значимости за 0.05, мы получаем (p-value < a), что позволяет нам отвергнуть нулевую гипотезу (распределение нормальное). \n",
    "Дальше работаем с альтернативной гипотезой. **Распределение ненормальное** "
   ]
  },
  {
   "cell_type": "markdown",
   "id": "8b81e307",
   "metadata": {},
   "source": [
    "<div class=\"alert alert-info\">\n",
    "<b>Задание № 8</b>\n",
    "    \n",
    "Первая выборка — это пациенты, которых лечили препаратом `А`.  Вторая выборка — пациенты, которых лечили препаратом `B`.\n",
    "\n",
    "Значения в выборках — это некоторая характеристика эффективности лечения (уровень метаболита в крови, температура через три дня после начала лечения, срок выздоровления, число койко-дней, и т.д.) \n",
    "\n",
    "- Требуется выяснить, имеется ли значимое различие эффективности препаратов `А` и `B`, или различия являются чисто случайными и объясняются «естественной» дисперсией выбранной характеристики?  (`уровень значимости принять за 0.05 (5%)`)\n",
    "\n",
    "- При каком минимальном p-value различия были бы уже значимы? \n",
    "    \n",
    "- Если выборки незначительно отличаются, то продемонстрируйте это визуально\n",
    "</div>"
   ]
  },
  {
   "cell_type": "code",
   "execution_count": 56,
   "id": "7c5e5db0",
   "metadata": {},
   "outputs": [],
   "source": [
    "np.random.seed(11)\n",
    "A = stats.norm.rvs(scale=15, loc=169, size=300)\n",
    "B = stats.norm.rvs(scale=14, loc=171.4, size=300)\n",
    "# Подсказка, обратите внимание на Two-sample T-test"
   ]
  },
  {
   "cell_type": "code",
   "execution_count": 64,
   "id": "9cb5323e",
   "metadata": {},
   "outputs": [
    {
     "name": "stdout",
     "output_type": "stream",
     "text": [
      "p-value = 0.042739435733033855. Имеются значимые различия! \n",
      "2-ой и 3-ий пункт задания выполнять не требуется.\n"
     ]
    }
   ],
   "source": [
    "stat, pv = stats.ttest_rel(A, B)\n",
    "if pv < 0.05:\n",
    "    print(f'p-value = {pv}. Имеются значимые различия! \\n2-ой и 3-ий пункт задания выполнять не требуется.')"
   ]
  }
 ],
 "metadata": {
  "kernelspec": {
   "display_name": "Python 3 (ipykernel)",
   "language": "python",
   "name": "python3"
  },
  "language_info": {
   "codemirror_mode": {
    "name": "ipython",
    "version": 3
   },
   "file_extension": ".py",
   "mimetype": "text/x-python",
   "name": "python",
   "nbconvert_exporter": "python",
   "pygments_lexer": "ipython3",
   "version": "3.9.7"
  }
 },
 "nbformat": 4,
 "nbformat_minor": 5
}
